{
 "cells": [
  {
   "cell_type": "markdown",
   "id": "d3bfc191-8885-42ee-b0a0-bbab867c6f9f",
   "metadata": {
    "tags": []
   },
   "source": [
    "# Lab | Flow Control"
   ]
  },
  {
   "cell_type": "markdown",
   "id": "3851fcd1-cf98-4653-9c89-e003b7ec9400",
   "metadata": {},
   "source": [
    "## Exercise: Managing Customer Orders Optimized\n",
    "\n",
    "In the last lab, you were starting an online store that sells various products. To ensure smooth operations, you developed a program that manages customer orders and inventory.\n",
    "\n",
    "You did so without using flow control. Let's go a step further and improve this code.\n",
    "\n",
    "Follow the steps below to complete the exercise:\n",
    "\n",
    "1. Look at your code from the lab data structures, and improve repeated code with loops.\n",
    "\n",
    "2. Instead of asking the user to input the name of three products that a customer wants to order, do the following:\n",
    "    \n",
    "    a. Prompt the user to enter the name of a product that a customer wants to order.\n",
    "    \n",
    "    b. Add the product name to the \"customer_orders\" set.\n",
    "    \n",
    "    c. Ask the user if they want to add another product (yes/no).\n",
    "    \n",
    "    d. Continue the loop until the user does not want to add another product.\n",
    "\n",
    "3. Instead of updating the inventory by subtracting 1 from the quantity of each product, only do it for  the products that were ordered (those in \"customer_orders\")."
   ]
  },
  {
   "cell_type": "code",
   "execution_count": 2,
   "id": "b4391f92-75ed-47a2-aa63-8ba909df3122",
   "metadata": {},
   "outputs": [],
   "source": [
    "products = [\"t-shirt\", \"mug\", \"hat\", \"book\", \"keychain\"]"
   ]
  },
  {
   "cell_type": "code",
   "execution_count": 3,
   "id": "3ab03b18-21b8-4adc-b0b0-87a0d33ce50e",
   "metadata": {},
   "outputs": [],
   "source": [
    "inventory = {}"
   ]
  },
  {
   "cell_type": "code",
   "execution_count": 4,
   "id": "d9b697ba-8cb7-4707-858e-3750c6fc89f4",
   "metadata": {},
   "outputs": [
    {
     "name": "stdin",
     "output_type": "stream",
     "text": [
      "How many t-shirts are in the inventory 2\n",
      "How many mugs are in the inventory 2\n",
      "How many hats are in the inventory 2\n",
      "How many books are in the inventory 2\n",
      "How many keychains are in the inventory 2\n"
     ]
    },
    {
     "name": "stdout",
     "output_type": "stream",
     "text": [
      "the inventory contains the following the following items: {'t-shirt': 2, 'mug': 2, 'hat': 2, 'book': 2, 'keychain': 2}\n"
     ]
    }
   ],
   "source": [
    "for item in products:\n",
    "   \n",
    "    quantity = input(f\"How many {item}s are in the inventory\")\n",
    "    while quantity.isdigit() == False:\n",
    "        print(\"Please enter a numerical value\")\n",
    "        quantity = input(f\"How many {item}s are in the inventory\")\n",
    "    else:\n",
    "        quantity = int(quantity)\n",
    "        inventory[item] = quantity\n",
    "\n",
    "print(\"the inventory contains the following the following items:\", inventory)"
   ]
  },
  {
   "cell_type": "code",
   "execution_count": 5,
   "id": "8a575d87-37cc-4782-bbce-3ecdf8667449",
   "metadata": {},
   "outputs": [],
   "source": [
    "customer_orders = set()"
   ]
  },
  {
   "cell_type": "code",
   "execution_count": 7,
   "id": "0ef062ca-9bc1-4468-b1c0-9e6c22a717ae",
   "metadata": {},
   "outputs": [
    {
     "name": "stdin",
     "output_type": "stream",
     "text": [
      "Please enter an item from the inventory the customer wants to order: mug\n",
      "Do you want to order another item, yes or no? no\n"
     ]
    },
    {
     "name": "stdout",
     "output_type": "stream",
     "text": [
      "Thank you for your order!\n",
      "The customer ordered: {'mug'}\n",
      "The total number of products ordered is: 1\n",
      "The total number of available product is: 10\n",
      "order statistics:\n",
      "Total Products Ordered:1\n",
      "percentage of products ordered:10.0%\n",
      "The updated inventory is:\n",
      "t-shirts: 2\n",
      "mugs: 1\n",
      "hats: 2\n",
      "books: 2\n",
      "keychains: 2\n"
     ]
    }
   ],
   "source": [
    "order = input (\"Please enter an item from the inventory the customer wants to order:\")\n",
    "while order not in products:\n",
    "    print (\"Item not in inventory!\")\n",
    "    order = input(\"Please enter an item from the inventory the customer wants to order:\")\n",
    "else:\n",
    "    customer_orders.add(order)\n",
    "\n",
    "\n",
    "order_continue = input(\"Do you want to order another item, yes or no?\")\n",
    "\n",
    "while True:\n",
    "    if order_continue == \"no\":\n",
    "        print(\"Thank you for your order!\")\n",
    "        break\n",
    "    else:\n",
    "        order = input(\"Please enter an item from the inventory the customer wants to order:\")\n",
    "        while order not in products:\n",
    "            print(\"Item not in inventory!\")\n",
    "            order = input(\"Please enter an item from the inventory the customer wants to order:\")\n",
    "\n",
    "    customer_order.add(order)\n",
    "\n",
    "    order_continue = input(\"Do you want to order another item (yes or no)?\")\n",
    "\n",
    "    while order_continue not in [\"yes\", \"no\"]:\n",
    "        print (\"please enter yes or no!\")\n",
    "        order_continue = input(\"Do you want to order another item (yes or no)?\")\n",
    "        \n",
    "print (f\"The customer ordered: {customer_orders}\")\n",
    "\n",
    "print (\"The total number of products ordered is:\", len(customer_orders))\n",
    "\n",
    "products_total = sum(inventory.values())\n",
    "print(\"The total number of available product is:\", products_total)\n",
    "\n",
    "percentage = len(customer_orders)/products_total*100\n",
    "order_statistics = (len(customer_orders), percentage)\n",
    "print(f\"order statistics:\\nTotal Products Ordered:{order_statistics[0]}\\npercentage of products ordered:{order_statistics[1]}%\")\n",
    "\n",
    "\n",
    "\n",
    "for i in range (0, len(products)):\n",
    "    if products[i] in customer_orders:\n",
    "        inventory[products[i]] -= 1\n",
    "\n",
    "print (\"The updated inventory is:\")\n",
    "for key, value in inventory.items():\n",
    "    print(f\"{key}s: {value}\")"
   ]
  },
  {
   "cell_type": "code",
   "execution_count": null,
   "id": "0af044fd-aaa3-4ad6-959d-7ded1fc7dfe9",
   "metadata": {},
   "outputs": [],
   "source": []
  }
 ],
 "metadata": {
  "kernelspec": {
   "display_name": "Python 3 (ipykernel)",
   "language": "python",
   "name": "python3"
  },
  "language_info": {
   "codemirror_mode": {
    "name": "ipython",
    "version": 3
   },
   "file_extension": ".py",
   "mimetype": "text/x-python",
   "name": "python",
   "nbconvert_exporter": "python",
   "pygments_lexer": "ipython3",
   "version": "3.12.4"
  }
 },
 "nbformat": 4,
 "nbformat_minor": 5
}
